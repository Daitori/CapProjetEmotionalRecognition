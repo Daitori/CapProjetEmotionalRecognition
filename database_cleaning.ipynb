{
 "cells": [
  {
   "cell_type": "code",
   "execution_count": 1,
   "metadata": {},
   "outputs": [],
   "source": [
    "import pandas as pd\n",
    "\n",
    "database='Database.csv'\n",
    "\n",
    "# Read in the data\n",
    "df = pd.read_csv(database)\n",
    "\n",
    "# Read class labels\n",
    "f = open(\"labelsDefault.txt\", \"r\")\n",
    "labels=f.read().splitlines()\n",
    "labels.pop(0)\n",
    "\n",
    "# Add y column, which is the target variable\n",
    "df['y'] = labels\n",
    "\n",
    "# Save the data\n",
    "df.to_csv(database, index=False)"
   ]
  }
 ],
 "metadata": {
  "kernelspec": {
   "display_name": "ML",
   "language": "python",
   "name": "python3"
  },
  "language_info": {
   "codemirror_mode": {
    "name": "ipython",
    "version": 3
   },
   "file_extension": ".py",
   "mimetype": "text/x-python",
   "name": "python",
   "nbconvert_exporter": "python",
   "pygments_lexer": "ipython3",
   "version": "3.11.4"
  }
 },
 "nbformat": 4,
 "nbformat_minor": 2
}
