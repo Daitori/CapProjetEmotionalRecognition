{
 "cells": [
  {
   "cell_type": "code",
   "execution_count": 2,
   "metadata": {},
   "outputs": [],
   "source": [
    "import warnings\n",
    "warnings.simplefilter(action='ignore', category=FutureWarning)\n",
    "\n",
    "from sklearn.cluster import MiniBatchKMeans\n",
    "from sklearn.model_selection import RepeatedStratifiedKFold\n",
    "from sklearn.metrics import confusion_matrix, ConfusionMatrixDisplay\n",
    "\n",
    "import pandas as pd\n",
    "import numpy as np\n",
    "\n",
    "from ML_loader import DatasetLoader,ModelLoader"
   ]
  },
  {
   "cell_type": "code",
   "execution_count": 3,
   "metadata": {},
   "outputs": [
    {
     "name": "stdout",
     "output_type": "stream",
     "text": [
      "(4048, 17) (1012, 17) (4048,) (1012,)\n"
     ]
    }
   ],
   "source": [
    "#Get data \n",
    "loader = DatasetLoader()\n",
    "loader.read_dataset('partial_database.csv',class_path='labelsDefault.txt',separator=',')\n",
    "loader.split_dataset()\n",
    "\n",
    "#Normalize data, if not already normalized\n",
    "print(np.shape(loader.X_train),np.shape(loader.X_test),np.shape(loader.y_train),np.shape(loader.y_test))"
   ]
  },
  {
   "cell_type": "code",
   "execution_count": 4,
   "metadata": {},
   "outputs": [],
   "source": [
    "#Get model\n",
    "model = ModelLoader()\n",
    "model.set_model(MiniBatchKMeans(batch_size=1280))\n",
    "\n",
    "cv = RepeatedStratifiedKFold(n_splits=22, n_repeats=3, random_state=1)\n",
    "\n",
    "#Optimization \n",
    "param = {'n_clusters': list(range(1,23))}\n",
    "model.set_optimal_params(param)\n",
    "\n",
    "model.optimize(loader.X_train,loader.y_train,cv=cv,scoring='homogeneity_score',n_iter=10)\n",
    "\n",
    "#Train model with optimal params\n",
    "model.set_model(MiniBatchKMeans(**model.optimal_params))"
   ]
  },
  {
   "cell_type": "code",
   "execution_count": 6,
   "metadata": {},
   "outputs": [
    {
     "name": "stdout",
     "output_type": "stream",
     "text": [
      "Before:  (1288, 17) (322, 17) (1288,) (322,) [ 1  2  3  4  5  6  7  8  9 10 11 12 13 14 15 16 17 18 19 20 21 22]\n"
     ]
    },
    {
     "ename": "ValueError",
     "evalue": "sample_weight.shape == (22,), expected (1288,)!",
     "output_type": "error",
     "traceback": [
      "\u001b[1;31m---------------------------------------------------------------------------\u001b[0m",
      "\u001b[1;31mValueError\u001b[0m                                Traceback (most recent call last)",
      "\u001b[1;32mc:\\Users\\Daito\\OneDrive\\Bureau\\CapProjetRecherche\\code\\ML_model_implementation\\MiniBatchKMeans.ipynb Cell 4\u001b[0m line \u001b[0;36m9\n\u001b[0;32m      <a href='vscode-notebook-cell:/c%3A/Users/Daito/OneDrive/Bureau/CapProjetRecherche/code/ML_model_implementation/MiniBatchKMeans.ipynb#W5sZmlsZQ%3D%3D?line=6'>7</a>\u001b[0m \u001b[39mfor\u001b[39;00m X_train,y_train,X_test,y_test \u001b[39min\u001b[39;00m (\u001b[39mzip\u001b[39m(X_train_merged,y_train_merged,X_test_merged,y_test_merged)):\n\u001b[0;32m      <a href='vscode-notebook-cell:/c%3A/Users/Daito/OneDrive/Bureau/CapProjetRecherche/code/ML_model_implementation/MiniBatchKMeans.ipynb#W5sZmlsZQ%3D%3D?line=7'>8</a>\u001b[0m     \u001b[39mprint\u001b[39m(\u001b[39m\"\u001b[39m\u001b[39mBefore: \u001b[39m\u001b[39m\"\u001b[39m,np\u001b[39m.\u001b[39mshape(X_train),np\u001b[39m.\u001b[39mshape(X_test),np\u001b[39m.\u001b[39mshape(y_train),np\u001b[39m.\u001b[39mshape(y_test),loader\u001b[39m.\u001b[39mclasses)\n\u001b[1;32m----> <a href='vscode-notebook-cell:/c%3A/Users/Daito/OneDrive/Bureau/CapProjetRecherche/code/ML_model_implementation/MiniBatchKMeans.ipynb#W5sZmlsZQ%3D%3D?line=8'>9</a>\u001b[0m     model\u001b[39m.\u001b[39mmodel\u001b[39m.\u001b[39mpartial_fit(X_train,y_train,loader\u001b[39m.\u001b[39mclasses)\n\u001b[0;32m     <a href='vscode-notebook-cell:/c%3A/Users/Daito/OneDrive/Bureau/CapProjetRecherche/code/ML_model_implementation/MiniBatchKMeans.ipynb#W5sZmlsZQ%3D%3D?line=9'>10</a>\u001b[0m     y_pred\u001b[39m=\u001b[39mmodel\u001b[39m.\u001b[39mpredict(loader\u001b[39m.\u001b[39mX_test)\n\u001b[0;32m     <a href='vscode-notebook-cell:/c%3A/Users/Daito/OneDrive/Bureau/CapProjetRecherche/code/ML_model_implementation/MiniBatchKMeans.ipynb#W5sZmlsZQ%3D%3D?line=10'>11</a>\u001b[0m     \u001b[39mprint\u001b[39m(\u001b[39m\"\u001b[39m\u001b[39mPurity score group: \u001b[39m\u001b[39m\"\u001b[39m,(y_test,model\u001b[39m.\u001b[39mpredict(X_test)))\n",
      "File \u001b[1;32mc:\\Users\\Daito\\miniconda3\\envs\\ML\\Lib\\site-packages\\sklearn\\cluster\\_kmeans.py:2188\u001b[0m, in \u001b[0;36mMiniBatchKMeans.partial_fit\u001b[1;34m(self, X, y, sample_weight)\u001b[0m\n\u001b[0;32m   2176\u001b[0m X \u001b[39m=\u001b[39m \u001b[39mself\u001b[39m\u001b[39m.\u001b[39m_validate_data(\n\u001b[0;32m   2177\u001b[0m     X,\n\u001b[0;32m   2178\u001b[0m     accept_sparse\u001b[39m=\u001b[39m\u001b[39m\"\u001b[39m\u001b[39mcsr\u001b[39m\u001b[39m\"\u001b[39m,\n\u001b[1;32m   (...)\u001b[0m\n\u001b[0;32m   2182\u001b[0m     reset\u001b[39m=\u001b[39m\u001b[39mnot\u001b[39;00m has_centers,\n\u001b[0;32m   2183\u001b[0m )\n\u001b[0;32m   2185\u001b[0m \u001b[39mself\u001b[39m\u001b[39m.\u001b[39m_random_state \u001b[39m=\u001b[39m \u001b[39mgetattr\u001b[39m(\n\u001b[0;32m   2186\u001b[0m     \u001b[39mself\u001b[39m, \u001b[39m\"\u001b[39m\u001b[39m_random_state\u001b[39m\u001b[39m\"\u001b[39m, check_random_state(\u001b[39mself\u001b[39m\u001b[39m.\u001b[39mrandom_state)\n\u001b[0;32m   2187\u001b[0m )\n\u001b[1;32m-> 2188\u001b[0m sample_weight \u001b[39m=\u001b[39m _check_sample_weight(sample_weight, X, dtype\u001b[39m=\u001b[39mX\u001b[39m.\u001b[39mdtype)\n\u001b[0;32m   2189\u001b[0m \u001b[39mself\u001b[39m\u001b[39m.\u001b[39mn_steps_ \u001b[39m=\u001b[39m \u001b[39mgetattr\u001b[39m(\u001b[39mself\u001b[39m, \u001b[39m\"\u001b[39m\u001b[39mn_steps_\u001b[39m\u001b[39m\"\u001b[39m, \u001b[39m0\u001b[39m)\n\u001b[0;32m   2191\u001b[0m \u001b[39m# precompute squared norms of data points\u001b[39;00m\n",
      "File \u001b[1;32mc:\\Users\\Daito\\miniconda3\\envs\\ML\\Lib\\site-packages\\sklearn\\utils\\validation.py:1779\u001b[0m, in \u001b[0;36m_check_sample_weight\u001b[1;34m(sample_weight, X, dtype, copy, only_non_negative)\u001b[0m\n\u001b[0;32m   1776\u001b[0m         \u001b[39mraise\u001b[39;00m \u001b[39mValueError\u001b[39;00m(\u001b[39m\"\u001b[39m\u001b[39mSample weights must be 1D array or scalar\u001b[39m\u001b[39m\"\u001b[39m)\n\u001b[0;32m   1778\u001b[0m     \u001b[39mif\u001b[39;00m sample_weight\u001b[39m.\u001b[39mshape \u001b[39m!=\u001b[39m (n_samples,):\n\u001b[1;32m-> 1779\u001b[0m         \u001b[39mraise\u001b[39;00m \u001b[39mValueError\u001b[39;00m(\n\u001b[0;32m   1780\u001b[0m             \u001b[39m\"\u001b[39m\u001b[39msample_weight.shape == \u001b[39m\u001b[39m{}\u001b[39;00m\u001b[39m, expected \u001b[39m\u001b[39m{}\u001b[39;00m\u001b[39m!\u001b[39m\u001b[39m\"\u001b[39m\u001b[39m.\u001b[39mformat(\n\u001b[0;32m   1781\u001b[0m                 sample_weight\u001b[39m.\u001b[39mshape, (n_samples,)\n\u001b[0;32m   1782\u001b[0m             )\n\u001b[0;32m   1783\u001b[0m         )\n\u001b[0;32m   1785\u001b[0m \u001b[39mif\u001b[39;00m only_non_negative:\n\u001b[0;32m   1786\u001b[0m     check_non_negative(sample_weight, \u001b[39m\"\u001b[39m\u001b[39m`sample_weight`\u001b[39m\u001b[39m\"\u001b[39m)\n",
      "\u001b[1;31mValueError\u001b[0m: sample_weight.shape == (22,), expected (1288,)!"
     ]
    }
   ],
   "source": [
    "##Split by class, to increment by class:\n",
    "class_to_group = {1:[1,2,3,4,5,6,7],2:[8,9],3:[10,11,12,13],4:[14,15,16],5:[17,18],6:[19],7:[20,21,22]}\n",
    "X_train_merged, X_test_merged, y_train_merged, y_test_merged=loader.split_dataset_class(class_to_group)\n",
    "memory_values = []\n",
    "\n",
    "#Train model, aime pas memory\n",
    "for X_train,y_train,X_test,y_test in (zip(X_train_merged,y_train_merged,X_test_merged,y_test_merged)):\n",
    "    print(\"Before: \",np.shape(X_train),np.shape(X_test),np.shape(y_train),np.shape(y_test),loader.classes)\n",
    "    model.model.partial_fit(X_train,y_train,loader.classes)\n",
    "    y_pred=model.predict(loader.X_test)\n",
    "    print(\"Purity score group: \",(y_test,model.predict(X_test)))\n",
    "    print(\"Purity score group: \",model.purity(loader.y_test,y_pred))\n",
    "    \"\"\"print(\"Memory: \",np.mean(mem),\"MB\")\n",
    "    memory_values.append(np.mean(mem))\"\"\"\n",
    "    \n",
    "    cm = confusion_matrix(loader.y_test, y_pred)\n",
    "    ConfusionMatrixDisplay(confusion_matrix=cm).plot()\n",
    "\n",
    "model.reset_model()\n",
    "\n",
    "\"\"\"average_memory = np.mean(memory_values)\n",
    "print(\"Average memory usage: \", average_memory,\"MB\")\"\"\""
   ]
  },
  {
   "cell_type": "code",
   "execution_count": null,
   "metadata": {},
   "outputs": [],
   "source": [
    "X_train_split_data,y_train_split_data,X_test_split_data,y_test_split_data=loader.split_dataset_data(10)\n",
    "memory_values = []\n",
    "\n",
    "for x in range(len(X_train_split_data)):\n",
    "    mem,res=model.partial_fit_train(X_train_split_data[x],y_train_split_data[x],classes=loader.classes)\n",
    "    y_pred=model.predict(loader.X_test)\n",
    "    print(\"Purity score group: \",model.purity(y_test,model.predict(X_test)))\n",
    "    print(\"Purity score group: \",model.purity(loader.y_test,y_pred))\n",
    "    print(\"Memory: \",np.mean(mem),\"MB\")\n",
    "    memory_values.append(np.mean(mem))\n",
    "    \n",
    "    cm = confusion_matrix(loader.y_test, y_pred)\n",
    "    ConfusionMatrixDisplay(confusion_matrix=cm).plot()\n",
    "\n",
    "model.reset_model()\n",
    "\n",
    "average_memory = np.mean(memory_values)\n",
    "print(\"Average memory usage: \", average_memory,\"MB\")"
   ]
  }
 ],
 "metadata": {
  "kernelspec": {
   "display_name": "ML",
   "language": "python",
   "name": "python3"
  },
  "language_info": {
   "codemirror_mode": {
    "name": "ipython",
    "version": 3
   },
   "file_extension": ".py",
   "mimetype": "text/x-python",
   "name": "python",
   "nbconvert_exporter": "python",
   "pygments_lexer": "ipython3",
   "version": "3.11.5"
  }
 },
 "nbformat": 4,
 "nbformat_minor": 2
}
