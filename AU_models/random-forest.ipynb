{
 "cells": [
  {
   "cell_type": "markdown",
   "metadata": {},
   "source": [
    "- ### Documents used : \n",
    "    - https://www.datacamp.com/tutorial/random-forests-classifier-python\n",
    "    - https://scikit-learn.org/stable/modules/generated/sklearn.ensemble.RandomForestClassifier.html"
   ]
  },
  {
   "cell_type": "code",
   "execution_count": null,
   "metadata": {},
   "outputs": [],
   "source": [
    "\n",
    "import warnings\n",
    "warnings.simplefilter(action='ignore', category=FutureWarning)\n",
    "\n",
    "from sklearn.ensemble import RandomForestClassifier\n",
    "from sklearn.model_selection import RepeatedStratifiedKFold\n",
    "from sklearn.metrics import confusion_matrix, ConfusionMatrixDisplay\n",
    "\n",
    "import pandas as pd\n",
    "import numpy as np\n",
    "\n",
    "from ML_loader import DatasetLoader,ModelLoader"
   ]
  },
  {
   "cell_type": "code",
   "execution_count": 8,
   "metadata": {},
   "outputs": [
    {
     "name": "stdout",
     "output_type": "stream",
     "text": [
      "(4048, 273) (1012, 273) (4048,) (1012,)\n"
     ]
    }
   ],
   "source": [
    "#Get data \n",
    "loader = DatasetLoader()\n",
    "loader.read_dataset('partial_database.csv',class_path='labelsDefault.txt',separator=',')\n",
    "loader.add_dataset('features_googlenet.csv')\n",
    "loader.split_dataset()\n",
    "\n",
    "#Normalize data, if not already normalized\n",
    "print(np.shape(loader.X_train),np.shape(loader.X_test),np.shape(loader.y_train),np.shape(loader.y_test))"
   ]
  },
  {
   "cell_type": "code",
   "execution_count": 9,
   "metadata": {},
   "outputs": [],
   "source": [
    "#Get model\n",
    "model = ModelLoader()\n",
    "model.set_model(RandomForestClassifier())\n",
    "\n",
    "cv = RepeatedStratifiedKFold(n_splits=22, n_repeats=3, random_state=1)\n",
    "\n",
    "#Optimization \n",
    "param  = {'n_estimators': np.random.randint(1000,1100,20),\n",
    "              'max_depth': np.random.randint(30,40,10)}\n",
    "\n",
    "model.set_optimal_params(param)\n",
    "\n",
    "model.optimize(loader.X_train,loader.y_train,cv=cv,scoring='accuracy',n_iter=10)\n",
    "print(model.optimal_params)\n",
    "\n",
    "#Train model with optimal params\n",
    "model.set_model(RandomForestClassifier(**model.optimal_params))\n",
    "mem,res=model.fit_train(loader.X_train,loader.y_train)\n",
    "\n",
    "#Score\n",
    "print(\"score: \",model.score(loader.X_test,loader.y_test))\n",
    "print(\"memory: \",np.mean(mem))\n",
    "cm=confusion_matrix(loader.y_test,model.predict(loader.X_test))\n",
    "ConfusionMatrixDisplay(cm,display_labels=loader.classes).plot()"
   ]
  }
 ],
 "metadata": {
  "kernelspec": {
   "display_name": "ML",
   "language": "python",
   "name": "python3"
  },
  "language_info": {
   "codemirror_mode": {
    "name": "ipython",
    "version": 3
   },
   "file_extension": ".py",
   "mimetype": "text/x-python",
   "name": "python",
   "nbconvert_exporter": "python",
   "pygments_lexer": "ipython3",
   "version": "3.11.5"
  }
 },
 "nbformat": 4,
 "nbformat_minor": 2
}
