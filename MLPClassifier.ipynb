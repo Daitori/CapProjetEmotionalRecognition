{
 "cells": [
  {
   "cell_type": "markdown",
   "metadata": {},
   "source": [
    "### Doc \n",
    "- https://scikit-learn.org/stable/modules/generated/sklearn.neural_network.MLPClassifier.html"
   ]
  },
  {
   "cell_type": "code",
   "execution_count": 24,
   "metadata": {},
   "outputs": [],
   "source": [
    "from sklearn.neural_network import MLPClassifier\n",
    "from sklearn.model_selection import RepeatedStratifiedKFold\n",
    "from sklearn.metrics import confusion_matrix, ConfusionMatrixDisplay\n",
    "\n",
    "import pandas as pd\n",
    "import numpy as np\n",
    "\n",
    "from ML_loader import DatasetLoader,ModelLoader"
   ]
  },
  {
   "cell_type": "code",
   "execution_count": null,
   "metadata": {},
   "outputs": [],
   "source": [
    "#Get data \n",
    "loader = DatasetLoader()\n",
    "loader.read_dataset('partial_database.csv',class_path='labelsDefault.txt',separator=',')\n",
    "loader.split_dataset()\n",
    "\n",
    "#Normalize data, if not already normalized\n",
    "print(np.shape(loader.X_train),np.shape(loader.X_test),np.shape(loader.y_train),np.shape(loader.y_test))"
   ]
  },
  {
   "cell_type": "code",
   "execution_count": 26,
   "metadata": {},
   "outputs": [
    {
     "name": "stdout",
     "output_type": "stream",
     "text": [
      "0.13178294573643412\n",
      "0.05138339920948617\n",
      "0.0\n",
      "0.07509881422924901\n",
      "0.06306306306306306\n",
      "0.08596837944664032\n",
      "0.0\n",
      "0.09189723320158102\n",
      "0.0\n",
      "0.10375494071146245\n",
      "0.0\n",
      "0.10869565217391304\n"
     ]
    }
   ],
   "source": [
    "#Model\n",
    "model=ModelLoader()\n",
    "model.set_model(MLPClassifier(random_state=1))\n",
    "\n",
    "#Optimization 122min\n",
    "\n",
    "param = {'hidden_layer_sizes': [(100,100,100), (100,100,100,100,100), (100,100,100,100,100,100,100,100,100,100)],\n",
    "              'max_iter':[300,500,1000]}\n",
    "cv = RepeatedStratifiedKFold(n_splits=22, n_repeats=3, random_state=1)\n",
    "\n",
    "model.set_optimal_params(param)\n",
    "\n",
    "model.optimize(loader.X_train,loader.y_train,cv=cv,scoring='accuracy',n_iter=10)\n",
    "\n",
    "#Train model with optimal params\n",
    "model.set_model(MLPClassifier(**model.optimal_params,random_state=1))"
   ]
  },
  {
   "cell_type": "code",
   "execution_count": null,
   "metadata": {},
   "outputs": [],
   "source": [
    "##Split by class, to increment by class:\n",
    "class_to_group = {1:[1,2,3,4,5,6,7],2:[8,9],3:[10,11,12,13],4:[14,15,16],5:[17,18],6:[19],7:[20,21,22]}\n",
    "X_train_merged, X_test_merged, y_train_merged, y_test_merged=loader.split_dataset_class(class_to_group)\n",
    "memory_values = []\n",
    "\n",
    "#Train model\n",
    "for X_train,y_train,X_test,y_test in (zip(X_train_merged,y_train_merged,X_test_merged,y_test_merged)):\n",
    "    mem,res=model.partial_fit_train(X_train,y_train,classes=loader.classes)\n",
    "    \n",
    "    print(\"Score accuracy group: \",model.score(X_test,y_test))\n",
    "    print(\"Score accuracy global: \",model.score(loader.X_test,loader.y_test))\n",
    "    print(\"Memory: \",np.mean(mem),\"MB\")\n",
    "    memory_values.append(np.mean(mem))\n",
    "    \n",
    "    y_pred=model.predict(loader.X_test)\n",
    "    cm = confusion_matrix(loader.y_test, y_pred)\n",
    "    ConfusionMatrixDisplay(confusion_matrix=cm).plot()\n",
    "\n",
    "model.reset_model()\n",
    "\n",
    "average_memory = np.mean(memory_values)\n",
    "print(\"Average memory usage: \", average_memory,\"MB\")"
   ]
  },
  {
   "cell_type": "code",
   "execution_count": null,
   "metadata": {},
   "outputs": [],
   "source": [
    "X_train_split_data,y_train_split_data,X_test_split_data,y_test_split_data=loader.split_dataset_data(10)\n",
    "memory_values = []\n",
    "\n",
    "for x in range(len(X_train_split_data)):\n",
    "    mem,res=model.partial_fit_train(X_train_split_data[x],y_train_split_data[x],classes=loader.classes)\n",
    "    print(\"Score accuracy batch: \",model.score(X_test_split_data[x],y_test_split_data[x]))\n",
    "    print(\"Score accuracy global: \",model.score(loader.X_test,loader.y_test))\n",
    "    print(\"Memory: \",np.mean(mem),\"MB\")\n",
    "    memory_values.append(np.mean(mem))\n",
    "\n",
    "    y_pred=model.predict(loader.X_test)\n",
    "    cm = confusion_matrix(loader.y_test, y_pred)\n",
    "    ConfusionMatrixDisplay(confusion_matrix=cm).plot()\n",
    "\n",
    "model.reset_model()\n",
    "\n",
    "average_memory = np.mean(memory_values)\n",
    "print(\"Average memory usage: \", average_memory,\"MB\")"
   ]
  }
 ],
 "metadata": {
  "kernelspec": {
   "display_name": "ML",
   "language": "python",
   "name": "python3"
  },
  "language_info": {
   "codemirror_mode": {
    "name": "ipython",
    "version": 3
   },
   "file_extension": ".py",
   "mimetype": "text/x-python",
   "name": "python",
   "nbconvert_exporter": "python",
   "pygments_lexer": "ipython3",
   "version": "3.11.5"
  }
 },
 "nbformat": 4,
 "nbformat_minor": 2
}
