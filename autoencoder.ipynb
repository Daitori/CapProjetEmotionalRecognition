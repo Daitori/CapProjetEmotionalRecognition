{
 "cells": [
  {
   "cell_type": "code",
   "execution_count": 83,
   "metadata": {},
   "outputs": [],
   "source": [
    "import pandas as pd\n",
    "import numpy as np\n",
    "import torch\n",
    "import matplotlib.pyplot as plt\n",
    "\n",
    "from torch.utils.tensorboard import SummaryWriter\n",
    "from torch.utils.data import Dataset, DataLoader\n",
    "from sklearn.model_selection import train_test_split"
   ]
  },
  {
   "cell_type": "code",
   "execution_count": 84,
   "metadata": {},
   "outputs": [
    {
     "name": "stdout",
     "output_type": "stream",
     "text": [
      "['01' '02' '03' '04' '05' '06' '07' '08' '09' '10' '11' '12' '13' '14'\n",
      " '15' '16' '17' '18' '19' '20' '21' '22']\n",
      "['01']\n"
     ]
    }
   ],
   "source": [
    "df = pd.read_csv(\"partial_database.csv\")\n",
    "\n",
    "# Read class labels\n",
    "f = open(\"labelsDefault.txt\", \"r\")\n",
    "labels=f.read().splitlines()\n",
    "labels.pop(0)\n",
    "\n",
    "# Add y column, which is the target variable\n",
    "df['y'] = labels\n",
    "print(df[\"y\"].unique())\n",
    "\n",
    "# Get dataset only for class 1\n",
    "df=df.loc[df['y'] == \"01\"]\n",
    "print(df[\"y\"].unique())"
   ]
  },
  {
   "cell_type": "code",
   "execution_count": 85,
   "metadata": {},
   "outputs": [],
   "source": [
    "target = torch.tensor(df['y'].values.astype(np.int_))\n",
    "data = torch.tensor(df.drop('y', axis = 1).values.astype(np.float32)) \n",
    "df_tensor = torch.utils.data.TensorDataset(data, target)"
   ]
  },
  {
   "cell_type": "code",
   "execution_count": 86,
   "metadata": {},
   "outputs": [
    {
     "name": "stdout",
     "output_type": "stream",
     "text": [
      "Feature batch shape: torch.Size([32, 17])\n",
      "Labels batch shape: torch.Size([32])\n"
     ]
    }
   ],
   "source": [
    "#Load data into a PyTorch dataset\n",
    "train_loader = DataLoader(dataset=df_tensor, batch_size=32, shuffle=True)\n",
    "train_features, train_labels = next(iter(train_loader))\n",
    "\n",
    "print(f\"Feature batch shape: {train_features.size()}\")\n",
    "print(f\"Labels batch shape: {train_labels.size()}\")"
   ]
  },
  {
   "cell_type": "code",
   "execution_count": 87,
   "metadata": {},
   "outputs": [],
   "source": [
    "# Creating a PyTorch class\n",
    "# 18 ==> 3 ==> 18\n",
    "\n",
    "class AE(torch.nn.Module):\n",
    "\tdef __init__(self):\n",
    "\t\tsuper().__init__()\n",
    "\t\t\n",
    "\t\tself.encoder = torch.nn.Sequential(\n",
    "\t\t\ttorch.nn.Linear(17, 6),\n",
    "\t\t\ttorch.nn.ReLU(),\n",
    "\t\t\ttorch.nn.Linear(6, 3),\n",
    "    \t\ttorch.nn.ReLU()\n",
    "\t\t)\n",
    "\t\t\n",
    "\t\tself.decoder = torch.nn.Sequential(\n",
    "\t\t\ttorch.nn.Linear(3, 6),\n",
    "\t\t\ttorch.nn.ReLU(),\n",
    "\t\t\ttorch.nn.Linear(6, 17),\n",
    "\t\t\ttorch.nn.ReLU()\n",
    "\t\t)\n",
    "\n",
    "\tdef forward(self, x):\n",
    "\t\tencoded = self.encoder(x)\n",
    "\t\tdecoded = self.decoder(encoded)\n",
    "\t\treturn decoded\n"
   ]
  },
  {
   "cell_type": "code",
   "execution_count": 88,
   "metadata": {},
   "outputs": [],
   "source": [
    "# Model Initialization\n",
    "model = AE()\n",
    "\n",
    "# Validation using MSE Loss function\n",
    "loss_function = torch.nn.MSELoss()\n",
    "\n",
    "# Using an Adam Optimizer with lr = 0.1\n",
    "optimizer = torch.optim.Adam(model.parameters(),\n",
    "\t\t\t\t\t\t\tlr = 1e-1,\n",
    "\t\t\t\t\t\t\tweight_decay = 1e-8)\n"
   ]
  },
  {
   "cell_type": "code",
   "execution_count": 89,
   "metadata": {},
   "outputs": [
    {
     "name": "stdout",
     "output_type": "stream",
     "text": [
      "Epoch: 0, Loss: 0.2229\n",
      "Epoch: 1, Loss: 0.1460\n",
      "Epoch: 2, Loss: 0.1950\n",
      "Epoch: 3, Loss: 0.2154\n",
      "Epoch: 4, Loss: 0.0960\n",
      "Epoch: 5, Loss: 0.1814\n",
      "Epoch: 6, Loss: 0.0760\n"
     ]
    },
    {
     "name": "stdout",
     "output_type": "stream",
     "text": [
      "Epoch: 7, Loss: 0.1981\n",
      "Epoch: 8, Loss: 0.0887\n",
      "Epoch: 9, Loss: 0.0631\n",
      "Epoch: 10, Loss: 0.1419\n",
      "Epoch: 11, Loss: 0.1023\n",
      "Epoch: 12, Loss: 0.0793\n",
      "Epoch: 13, Loss: 0.0789\n",
      "Epoch: 14, Loss: 0.0986\n",
      "Epoch: 15, Loss: 0.1815\n",
      "Epoch: 16, Loss: 0.0847\n",
      "Epoch: 17, Loss: 0.2143\n",
      "Epoch: 18, Loss: 0.1038\n",
      "Epoch: 19, Loss: 0.0731\n",
      "Epoch: 20, Loss: 0.0648\n",
      "Epoch: 21, Loss: 0.0766\n",
      "Epoch: 22, Loss: 0.0810\n",
      "Epoch: 23, Loss: 0.0888\n",
      "Epoch: 24, Loss: 0.0931\n",
      "Epoch: 25, Loss: 0.0874\n",
      "Epoch: 26, Loss: 0.1093\n",
      "Epoch: 27, Loss: 0.0480\n",
      "Epoch: 28, Loss: 0.0830\n",
      "Epoch: 29, Loss: 0.1000\n",
      "Epoch: 30, Loss: 0.0708\n",
      "Epoch: 31, Loss: 0.0893\n",
      "Epoch: 32, Loss: 0.0798\n",
      "Epoch: 33, Loss: 0.2202\n",
      "Epoch: 34, Loss: 0.0930\n",
      "Epoch: 35, Loss: 0.0978\n",
      "Epoch: 36, Loss: 0.1048\n",
      "Epoch: 37, Loss: 0.0811\n",
      "Epoch: 38, Loss: 0.1653\n",
      "Epoch: 39, Loss: 0.0648\n",
      "Epoch: 40, Loss: 0.0831\n",
      "Epoch: 41, Loss: 0.1273\n",
      "Epoch: 42, Loss: 0.2252\n",
      "Epoch: 43, Loss: 0.0785\n",
      "Epoch: 44, Loss: 0.0782\n",
      "Epoch: 45, Loss: 0.0849\n",
      "Epoch: 46, Loss: 0.1203\n",
      "Epoch: 47, Loss: 0.1299\n",
      "Epoch: 48, Loss: 0.0578\n",
      "Epoch: 49, Loss: 0.1061\n",
      "Epoch: 50, Loss: 0.1340\n",
      "Epoch: 51, Loss: 0.1043\n",
      "Epoch: 52, Loss: 0.1307\n",
      "Epoch: 53, Loss: 0.0844\n",
      "Epoch: 54, Loss: 0.1897\n",
      "Epoch: 55, Loss: 0.0627\n",
      "Epoch: 56, Loss: 0.0988\n",
      "Epoch: 57, Loss: 0.1487\n",
      "Epoch: 58, Loss: 0.0842\n",
      "Epoch: 59, Loss: 0.1981\n",
      "Epoch: 60, Loss: 0.1476\n",
      "Epoch: 61, Loss: 0.0813\n",
      "Epoch: 62, Loss: 0.1678\n",
      "Epoch: 63, Loss: 0.1101\n",
      "Epoch: 64, Loss: 0.1108\n",
      "Epoch: 65, Loss: 0.0967\n",
      "Epoch: 66, Loss: 0.1894\n",
      "Epoch: 67, Loss: 0.0925\n",
      "Epoch: 68, Loss: 0.0664\n",
      "Epoch: 69, Loss: 0.0874\n",
      "Epoch: 70, Loss: 0.1554\n",
      "Epoch: 71, Loss: 0.1919\n",
      "Epoch: 72, Loss: 0.1275\n",
      "Epoch: 73, Loss: 0.1238\n",
      "Epoch: 74, Loss: 0.0661\n",
      "Epoch: 75, Loss: 0.1277\n",
      "Epoch: 76, Loss: 0.0562\n",
      "Epoch: 77, Loss: 0.0744\n",
      "Epoch: 78, Loss: 0.0919\n",
      "Epoch: 79, Loss: 0.0704\n",
      "Epoch: 80, Loss: 0.0948\n",
      "Epoch: 81, Loss: 0.0774\n",
      "Epoch: 82, Loss: 0.0668\n",
      "Epoch: 83, Loss: 0.0679\n",
      "Epoch: 84, Loss: 0.0698\n",
      "Epoch: 85, Loss: 0.1443\n",
      "Epoch: 86, Loss: 0.0595\n",
      "Epoch: 87, Loss: 0.2145\n",
      "Epoch: 88, Loss: 0.0641\n",
      "Epoch: 89, Loss: 0.0570\n",
      "Epoch: 90, Loss: 0.1352\n",
      "Epoch: 91, Loss: 0.0655\n",
      "Epoch: 92, Loss: 0.1257\n",
      "Epoch: 93, Loss: 0.0681\n",
      "Epoch: 94, Loss: 0.1162\n",
      "Epoch: 95, Loss: 0.1155\n",
      "Epoch: 96, Loss: 0.0654\n",
      "Epoch: 97, Loss: 0.1164\n",
      "Epoch: 98, Loss: 0.0981\n",
      "Epoch: 99, Loss: 0.1530\n"
     ]
    }
   ],
   "source": [
    "epochs = 100\n",
    "losses = []\n",
    "writer = SummaryWriter()\n",
    "\n",
    "for epoch in range(epochs):\n",
    "    for data in train_loader:\n",
    "        features, _ = data\n",
    "        optimizer.zero_grad()\n",
    "        reconstructed = model(features)\n",
    "        loss = loss_function(reconstructed, features)\n",
    "        loss.backward()\n",
    "        #reconstruction_error = torch.mean((reconstructed - features)**2)\n",
    "        optimizer.step()\n",
    "        losses.append(loss.item())\n",
    "\n",
    "    print(f'Epoch: {epoch}, Loss: {loss.item():.4f}')\n",
    "    #print(f'Epoch: {epoch}, Reconstruction error: {reconstruction_error.item():.4f}')\n",
    "    writer.add_scalar('Loss', loss.item(), epoch)\n",
    "    #writer.add_scalar('Error', reconstruction_error.item(), epoch)\n",
    "\n"
   ]
  },
  {
   "cell_type": "code",
   "execution_count": 90,
   "metadata": {},
   "outputs": [],
   "source": [
    "#Load tensorboard\n",
    "#tensorboard --logdir=runs\n",
    "#http://localhost:6006/"
   ]
  }
 ],
 "metadata": {
  "kernelspec": {
   "display_name": "Python 3",
   "language": "python",
   "name": "python3"
  },
  "language_info": {
   "codemirror_mode": {
    "name": "ipython",
    "version": 3
   },
   "file_extension": ".py",
   "mimetype": "text/x-python",
   "name": "python",
   "nbconvert_exporter": "python",
   "pygments_lexer": "ipython3",
   "version": "3.11.6"
  }
 },
 "nbformat": 4,
 "nbformat_minor": 2
}
